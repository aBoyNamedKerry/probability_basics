{
 "cells": [
  {
   "cell_type": "markdown",
   "metadata": {},
   "source": [
    "## Understanding conditional probability and Bayes' Theorem"
   ]
  },
  {
   "cell_type": "markdown",
   "metadata": {},
   "source": [
    "This note is intended to take people through how to apply conditional probability and Bayes' theorem to a sample dataset. It is largely based on the tutorial provided here: https://machinelearningmastery.com/bayes-theorem-for-machine-learning/. \n",
    "\n",
    "For this example we'll take some data from Wave 33 of the BEIS public attitude survey (https://www.gov.uk/government/statistics/beis-public-attitudes-tracker-wave-33) and just look whether someone supported or opposed a policy based on their gender. For the purposes of this exercise we are ignoring those who stated they don't know and we're going to combine support and oppose options into one.\n",
    "\n",
    "The data used here is taken from a question on whether you support or oppose the use of renewable energy to provide electricty, fuel and heat and what gender the respondent was.\n",
    "\n",
    "The breakdown is as follows."
   ]
  },
  {
   "cell_type": "code",
   "execution_count": 2,
   "metadata": {},
   "outputs": [
    {
     "data": {
      "text/plain": [
       "1555"
      ]
     },
     "execution_count": 2,
     "metadata": {},
     "output_type": "execute_result"
    }
   ],
   "source": [
    "#note each includes strongly support and support and strongly oppose and oppose hence the additions\n",
    "male_support = (408 + 352) \n",
    "male_oppose = (4 + 17)\n",
    "female_support = (293 + 458)\n",
    "female_oppose =( 5 + 18)\n",
    "\n",
    "n = male_support + male_oppose + female_support + female_oppose\n",
    "n"
   ]
  },
  {
   "cell_type": "markdown",
   "metadata": {},
   "source": [
    "### Marginal probability\n",
    "Let's start with marginal probability. This is the probability  of an event irrespective of outcome of other variables. This might be seen written as:\n",
    "\n",
    "P(A)\n",
    "\n",
    "So here, if we wanted to calculate the probability of being female (assuming out study is representative) it might be something like:"
   ]
  },
  {
   "cell_type": "code",
   "execution_count": 3,
   "metadata": {},
   "outputs": [
    {
     "data": {
      "text/plain": [
       "0.498"
      ]
     },
     "execution_count": 3,
     "metadata": {},
     "output_type": "execute_result"
    }
   ],
   "source": [
    "total_females = (female_support + female_oppose)\n",
    "p_female =  total_females / n\n",
    "round(p_female,3)"
   ]
  },
  {
   "cell_type": "markdown",
   "metadata": {},
   "source": [
    "### Joint probability\n",
    "\n",
    "This is the probability of two or more similtaneous events occuring, the joint probability is often noted as just the outcomes and written as follows:\n",
    "\n",
    "P(A and B) or P(A, B).\n",
    "\n",
    "So in this example we might look at the joint probability that someone is both male and support the renewable enrergy:\n",
    "\n",
    "P(male AND supports renewables)"
   ]
  },
  {
   "cell_type": "code",
   "execution_count": 4,
   "metadata": {},
   "outputs": [
    {
     "data": {
      "text/plain": [
       "0.489"
      ]
     },
     "execution_count": 4,
     "metadata": {},
     "output_type": "execute_result"
    }
   ],
   "source": [
    "round(male_support / n, 3)"
   ]
  },
  {
   "cell_type": "markdown",
   "metadata": {},
   "source": [
    "### Conditional probability \n",
    "\n",
    "This is the probability of one event given the occurence of another event. This is often noted as \n",
    "\n",
    "P(A given B) or P(A | B).\n",
    "\n",
    "In this example it might be the probability of being male and supporting renewable given than you support renewables.\n",
    "\n",
    "The conditional probability can be calculated as follows:\n",
    "\n",
    "P(A | B) = P(A + B) / P(B)\n",
    "\n",
    "P(Male given that support renewables) = P( Male and Supports renewables) / P(supports renewables)\n",
    "\n"
   ]
  },
  {
   "cell_type": "code",
   "execution_count": 5,
   "metadata": {},
   "outputs": [
    {
     "data": {
      "text/plain": [
       "0.503"
      ]
     },
     "execution_count": 5,
     "metadata": {},
     "output_type": "execute_result"
    }
   ],
   "source": [
    "total_support = male_support + female_support\n",
    "male_given_support = male_support / (total_support)\n",
    "\n",
    "round(male_given_support, 4)"
   ]
  },
  {
   "cell_type": "markdown",
   "metadata": {},
   "source": [
    "Note we can also include the denominator in the equation (so turn it into a probability) but it doesn't change the outcome."
   ]
  },
  {
   "cell_type": "code",
   "execution_count": 6,
   "metadata": {},
   "outputs": [
    {
     "data": {
      "text/plain": [
       "0.503"
      ]
     },
     "execution_count": 6,
     "metadata": {},
     "output_type": "execute_result"
    }
   ],
   "source": [
    "male_given_support = (male_support / n) / ((total_support)/n)\n",
    "\n",
    "round(male_given_support, 4)"
   ]
  },
  {
   "cell_type": "markdown",
   "metadata": {},
   "source": [
    "We can also calculate the joint probability using the conditional probability:\n",
    "    \n",
    "P(A, B) = P(A | B) * P(B)\n",
    "\n",
    "P(Male and Supports renewables) = (Probability of male given Supports renewables) * Probability of supporting renewables"
   ]
  },
  {
   "cell_type": "code",
   "execution_count": 7,
   "metadata": {},
   "outputs": [
    {
     "data": {
      "text/plain": [
       "0.4887"
      ]
     },
     "execution_count": 7,
     "metadata": {},
     "output_type": "execute_result"
    }
   ],
   "source": [
    "joint_prob = male_given_support * (total_support / n)\n",
    "round(joint_prob, 4)"
   ]
  },
  {
   "cell_type": "markdown",
   "metadata": {},
   "source": [
    "### Calculating conditional probability from the other conditional probability; Bayes' Theorem"
   ]
  },
  {
   "cell_type": "markdown",
   "metadata": {},
   "source": [
    "Unlike joing probabilites, conditional probabilities are not symmetrical:\n",
    "\n",
    "P(A | B) != P(B | A)\n",
    "\n",
    "But we can use one conditional probability to derive the other:\n",
    "\n",
    "P(A | B) = P(B | A) * P(A) / P(B)\n",
    "\n",
    "And\n",
    "\n",
    "P(B | A) = P(A | B) * P(B) / P(A)\n",
    "\n",
    "This is known as Bayes' Theorem and is useful for calculating the conditional probability when the join is unknown.\n",
    "\n",
    "A quick note here, that although it is written P(A | B), it's actually probability of A and B given B. Sometimes it's useful to write out the whole thing as it helps in understanding you are referencing the same data. Therefore in some of the examples below you might see I have written out the whole formula out.\n",
    "\n",
    "In our example here we calculate the conditional probability of being male and supporting renewable energy using the conditional probability for males and supporting renenwables.\n",
    "\n",
    "**P(male and support renewable given supports renewables) = P(supports renewables and is male | is male) * P(male) / P(Supports renewables)**"
   ]
  },
  {
   "cell_type": "code",
   "execution_count": 8,
   "metadata": {},
   "outputs": [
    {
     "data": {
      "text/plain": [
       "0.503"
      ]
     },
     "execution_count": 8,
     "metadata": {},
     "output_type": "execute_result"
    }
   ],
   "source": [
    "total_males = male_support + male_oppose\n",
    "male_given_support = ((male_support / total_males)  * (total_males / n)) / (total_support / n)\n",
    "round(male_given_support,3)"
   ]
  },
  {
   "cell_type": "markdown",
   "metadata": {},
   "source": [
    "To make this calculation concrete, as we noted above above, we can use the conditional probability to work out the join probability. All the below are equivalent:\n",
    "\n",
    "P(A, B) = P(A | B) * P(B) = P(A, B) = P(B | A) * P(A)\n",
    "\n",
    "Which can therefore simplify to\n",
    "\n",
    "P(A | B) * P(B) = P(B | A) * P(A)\n",
    "\n",
    "This equlity means we can derive Bayes' formula by dividing by P(B):\n",
    "\n",
    "P(A|B) = P(B|A)P(A)/P(B)\n"
   ]
  },
  {
   "cell_type": "markdown",
   "metadata": {},
   "source": [
    "#### Bayes' Theorem"
   ]
  },
  {
   "cell_type": "markdown",
   "metadata": {},
   "source": [
    "We often do not have access to the denominator directly, e.g. P(B) but again we can calculate this alternatively with only part of the information.\n",
    "\n",
    "P(B) = P(B | A) * P(A) + P(B | not A) * P( not A).\n",
    "\n",
    "Therefore the whole formula becomes:\n",
    "\n",
    "P(A | B) = P(B | A) * P(A) / P(B | A) * P(A) + P(B | not A) * P( not A).\n",
    "\n",
    "This can also be thought of in terms of the following:\n",
    "\n",
    "Posterior probability = Likelhood * Prior probability / Evidence\n",
    "\n",
    "Where:\n",
    "\n",
    "P(A | B) = Posterior = Your updated probability or belief following the evidence\n",
    "\n",
    "P(B | A) = Likelihood = The likelihood of observing the given phenomenon\n",
    "\n",
    "P(A) = Prior = Prior probability or belief before new evidence is introduced.\n",
    "\n",
    "P(B) = Evidence = Considering all possible hypothesis (normalising factor)\n",
    "\n",
    "For our purposes this can be writen out as:\n",
    "\n",
    "``P(male and support renewable given supports renewables) = \n",
    "P(support renewables and is male given is male) * P(male) / \n",
    "P(support renewables and is male given is male) * P(male) + P(supports renewables and is NOT male given is NOT male) * P(Not male)``"
   ]
  },
  {
   "cell_type": "markdown",
   "metadata": {},
   "source": [
    "To derive those  complement values we simply do the following:\n",
    "    \n",
    "P(not A) = 1 - P(A) = 1 - P(male)\n",
    "\n",
    "And\n",
    "\n",
    "P(B | not A) = 1 - P(not B | not A) =  P(supports renewables and is NOT male given is NOT male) = 1 - P(does NOT support renwables given NOT Male)\n",
    "\n",
    "We can plug this in below as follows"
   ]
  },
  {
   "cell_type": "code",
   "execution_count": 18,
   "metadata": {},
   "outputs": [
    {
     "data": {
      "text/plain": [
       "0.503"
      ]
     },
     "execution_count": 18,
     "metadata": {},
     "output_type": "execute_result"
    }
   ],
   "source": [
    "male_given_support = ((male_support / total_males)  * (total_males / n)) / (((male_support / total_males)  * (total_males / n)) + ((total_support - male_support) / (n - total_males)) * (1-(total_males / n)))\n",
    "## which results in\n",
    "round(male_given_support,3)"
   ]
  },
  {
   "cell_type": "markdown",
   "metadata": {},
   "source": [
    "The result is the same as when we had all of the data and information above.\n",
    "\n",
    "You'll note we get the same probability if we take away the proportion of females who oppose given they are females, effectively the same porportion as the number as those who support the measure given they are not male. \n",
    "The equivalent of:\n",
    "1 - (not B | not A) =  1 - P(Not support and not male given not male)"
   ]
  },
  {
   "cell_type": "code",
   "execution_count": 107,
   "metadata": {},
   "outputs": [
    {
     "name": "stdout",
     "output_type": "stream",
     "text": [
      "0.9702842377260982 0.9702842377260982\n"
     ]
    }
   ],
   "source": [
    "#Not support given not male / support given not male\n",
    "print(1 - female_oppose / total_females,\n",
    "     ((total_support - male_support) / (n-  total_males)))"
   ]
  },
  {
   "cell_type": "markdown",
   "metadata": {},
   "source": [
    "### Bayes theorem in practice"
   ]
  },
  {
   "cell_type": "markdown",
   "metadata": {},
   "source": [
    "#### The coin toss question"
   ]
  },
  {
   "cell_type": "markdown",
   "metadata": {},
   "source": [
    "This has fast become a classic tech job interview question and we can use Bayes' theorem to derive the answer.\n",
    "\n",
    "***You have a bag of 100 coins and one of them is biased towards heads. You randomly take out one of those coins and toss it 3 times, and each time it lands on heads.\n",
    "What's the probability you have have chosen the bias coin?***\n",
    "\n",
    "We only have a very limited amount of information here but we can use Bayes's theorem as follows.\n",
    "\n",
    "First let's start with writing out the question as a formula.\n",
    "\n",
    "  ```P(Coin is biased and 3 heads | 3 heads) = P(3 heads and the coin is biased | given coin is biased) * P(biased coin) / P(B).```\n",
    "  \n",
    "  ```P(A | B) = P(3 heads and the coin is biased | given coin is biased) * P(biased coin) / P(3 heads and the coin is biased | given coin is biased) * P(biased coin) + P(3 heads given coin is NOT biased) * P( Coin NOT biased) ```\n",
    "\n",
    "Let's start to plug this is to the formula:\n",
    "\n",
    "P(B | A) = P(3 heads given coin is biased) = 1 \n",
    "\n",
    "P(A)  = P(Choosing a bias coin)  = 1 / 100\n",
    "\n",
    "P(three heads) = 0.5 ^ 3 = 1/8\n",
    "\n",
    "Therefore:\n",
    "\n",
    "  ```P(Coin is biased and three head | 3 heads) = 1 * 1/100 / (1 * 1/100) + (99 / 100 * 1/8).```\n",
    "\n"
   ]
  },
  {
   "cell_type": "code",
   "execution_count": 124,
   "metadata": {},
   "outputs": [
    {
     "data": {
      "text/plain": [
       "0.0748"
      ]
     },
     "execution_count": 124,
     "metadata": {},
     "output_type": "execute_result"
    }
   ],
   "source": [
    "heads_bias_coin =  1 # if the coin is bias it will always be heads!\n",
    "bias_coin  = 1/100\n",
    "three_heads = 0.5 **3\n",
    "\n",
    "p_coin_bias = (1* 1/100) / ((1* 1/100) + (0.5**3 * 99/100))\n",
    "\n",
    "#therefore the probability is\n",
    "round(p_coin_bias, 4)                            \n",
    "                            "
   ]
  },
  {
   "cell_type": "markdown",
   "metadata": {},
   "source": [
    "There is therefore a **7%** chance you picked the biased coin."
   ]
  },
  {
   "cell_type": "markdown",
   "metadata": {},
   "source": [
    "#### The Covid test question"
   ]
  },
  {
   "cell_type": "markdown",
   "metadata": {},
   "source": [
    "Now we are more comfrotable with BEIS theorem we can start applying it to see what the likelihood of having covid is following a positive result for a lateral flow test.\n",
    "\n",
    "A cochrane study found that on average the lateral flow test sensitivity (it's ability to detect true positives) was 78% (https://www.bmj.com/content/372/bmj.n823).\n",
    "\n",
    "The ONS have previously estimated that around 2% of the population (1 in 50) had covid.\n",
    "\n",
    "So our question here is, given a positive result from a lateral flow test what is the likelihood that an individual has covid?\n",
    "\n",
    "Out formula will therefore look something like this:\n",
    "\n",
    "P(has covid | positive test) = P(positive test | has covid) * P(has covid) / P(given positive test | has covid) * P(has covid) + P(Positive test |  NOT covid) * P(NOT covid)\n",
    "\n",
    "In order to solve this we need to know one final bit of info which is how good the test is at ideintifying true negatives. This is referred to as the specificicity and in this case, the same study suggest it was on average 97%.\n",
    "\n",
    "Now if we recall above, where we don't know the P(B) we can derive it as follows: \n",
    "\n",
    "P(B | not A) = 1 - P(NOT B | NOT B)\n",
    "\n",
    "P(Positive test given | NOT Covid)  =  1 - (NOT Positive | NOT Covid) = 1- (True Negative) = 1 -0.97 = 0.03\n",
    "\n"
   ]
  },
  {
   "cell_type": "code",
   "execution_count": 29,
   "metadata": {},
   "outputs": [
    {
     "data": {
      "text/plain": [
       "0.347"
      ]
     },
     "execution_count": 29,
     "metadata": {},
     "output_type": "execute_result"
    }
   ],
   "source": [
    "test_positive = 0.78\n",
    "p_covid = 0.02\n",
    "p_pos_not_covid = 1 - 0.97\n",
    "p_not_covid = 1 - p_covid\n",
    "\n",
    "p_covid = (test_positive * p_covid) / ((test_positive * p_covid) + (p_pos_not_covid * p_not_covid))\n",
    "\n",
    "round(p_covid, 3)"
   ]
  },
  {
   "cell_type": "markdown",
   "metadata": {},
   "source": [
    "Therefore the proability that the test has returned a positive result and that the individual has covid is actually 35%."
   ]
  },
  {
   "cell_type": "markdown",
   "metadata": {},
   "source": [
    "#### Updating our priors"
   ]
  },
  {
   "cell_type": "markdown",
   "metadata": {},
   "source": [
    "A key part of Bayes theoreom and application is about updating our priors as we get new evidence. Now that we have done the covid test, our prior for having covid has increased to **35%** or more accurately 0.347.\n",
    "\n",
    "Therefore if we were to take a second covid test and get a positive result:"
   ]
  },
  {
   "cell_type": "code",
   "execution_count": 30,
   "metadata": {},
   "outputs": [
    {
     "data": {
      "text/plain": [
       "0.902"
      ]
     },
     "execution_count": 30,
     "metadata": {},
     "output_type": "execute_result"
    }
   ],
   "source": [
    "\n",
    "p_covid = (test_positive * p_covid) / ((test_positive * p_covid) + (p_pos_not_covid * p_not_covid))\n",
    "\n",
    "round(p_covid, 3)\n"
   ]
  },
  {
   "cell_type": "markdown",
   "metadata": {},
   "source": [
    "So we note following a second test that our new posterior probability that we have covid has increased to **90%**. If we did a third test and also got a positive result, the probability would be even higher. "
   ]
  }
 ],
 "metadata": {
  "kernelspec": {
   "display_name": "Python 3",
   "language": "python",
   "name": "python3"
  },
  "language_info": {
   "codemirror_mode": {
    "name": "ipython",
    "version": 3
   },
   "file_extension": ".py",
   "mimetype": "text/x-python",
   "name": "python",
   "nbconvert_exporter": "python",
   "pygments_lexer": "ipython3",
   "version": "3.8.6"
  }
 },
 "nbformat": 4,
 "nbformat_minor": 4
}
